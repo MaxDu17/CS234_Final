{
 "cells": [
  {
   "cell_type": "code",
   "execution_count": 1,
   "id": "eccf85b5-9100-4153-8129-6237e600d4d1",
   "metadata": {},
   "outputs": [
    {
     "name": "stdout",
     "output_type": "stream",
     "text": [
      "pygame 2.2.0 (SDL 2.0.22, Python 3.8.8)\n",
      "Hello from the pygame community. https://www.pygame.org/contribute.html\n"
     ]
    }
   ],
   "source": [
    "import numpy as np\n",
    "import torch\n",
    "from torch import nn as nn\n",
    "import gym\n",
    "import os\n",
    "from network_utils import np2torch\n",
    "from base_gaussian_policy import GaussianToolPolicy\n",
    "from environment.simulator import ToolEnv\n",
    "import matplotlib.pyplot as plt\n",
    "import argparse\n",
    "import imageio\n",
    "import tqdm\n",
    "from collections import deque\n",
    "from PIL import Image"
   ]
  },
  {
   "cell_type": "code",
   "execution_count": 57,
   "id": "72056dc9-2f38-48bf-8556-20b9450e99bb",
   "metadata": {},
   "outputs": [],
   "source": [
    "def plot_heatmap_temp(arr, filepath):\n",
    "    plt.clf()\n",
    "    plt.imshow(arr, cmap='hot', interpolation='nearest')\n",
    "    plt.show()\n",
    "    plt.clf()"
   ]
  },
  {
   "cell_type": "code",
   "execution_count": 58,
   "id": "55a84eff-8fcb-4b66-b05e-35510c485ce3",
   "metadata": {},
   "outputs": [
    {
     "name": "stdout",
     "output_type": "stream",
     "text": [
      "(150, 150)\n"
     ]
    },
    {
     "data": {
      "image/png": "[encoded data removed]",
      "text/plain": [
       "<Figure size 640x480 with 1 Axes>"
      ]
     },
     "metadata": {},
     "output_type": "display_data"
    }
   ],
   "source": [
    "vals_0 = np.loadtxt(\"data/level_tool_rewards/0_0.txt\")\n",
    "print(np.shape(vals_0))\n",
    "plot_heatmap_temp(vals_0,\"\")"
   ]
  },
  {
   "cell_type": "code",
   "execution_count": 59,
   "id": "ea788342-8b85-402b-bcbf-37223c50917e",
   "metadata": {},
   "outputs": [
    {
     "name": "stdout",
     "output_type": "stream",
     "text": [
      "(150, 150)\n"
     ]
    },
    {
     "data": {
      "image/png": "[encoded data removed]",
      "text/plain": [
       "<Figure size 640x480 with 1 Axes>"
      ]
     },
     "metadata": {},
     "output_type": "display_data"
    }
   ],
   "source": [
    "vals_neg2 = np.loadtxt(\"data/level_tool_rewards/-2_0.txt\")\n",
    "print(np.shape(vals_neg2))\n",
    "plot_heatmap_temp(vals_neg2,\"\")"
   ]
  },
  {
   "cell_type": "code",
   "execution_count": null,
   "id": "0ecfd573-ddd4-4e82-a63a-68e5688d146f",
   "metadata": {},
   "outputs": [],
   "source": [
    "heatmap_arr = np.zeros((150,150))\n",
    "for index in range(len(vals_0)):\n",
    "    row, col = index_to_row_col(index)\n",
    "    heatmap_arr[row][col] = actvals[index]"
   ]
  },
  {
   "cell_type": "code",
   "execution_count": 21,
   "id": "8dcc75ba-b84a-4ba3-8cf6-ef02412a7b93",
   "metadata": {},
   "outputs": [],
   "source": [
    "END_ROWS = 150\n",
    "END_COLS = 150\n",
    "\n",
    "def compute_linear_input(height, width, conv_layers, model_version):\n",
    "    mod_channels = 32/(2 ** (conv_layers-1))\n",
    "    if model_version == 'base':\n",
    "        mod_height = height - (2 * conv_layers)\n",
    "        mod_width = width - (2 * conv_layers)\n",
    "    else:\n",
    "        mod_height = height/(2 ** conv_layers)\n",
    "        mod_width = width/(2 ** conv_layers)\n",
    "    return int(round(mod_channels * mod_height * mod_width))\n",
    "\n",
    "def add_coord_conv_channels_np(img_arr):\n",
    "    _, rows, cols = np.shape(img_arr)\n",
    "    base_row = np.reshape(np.arange(cols) + 1, (1,-1))\n",
    "    ones_arr_rows = np.zeros((rows,1)) + 1\n",
    "    x_coord_channel = np.expand_dims(np.matmul(ones_arr_rows, base_row), axis=0)\n",
    "    y_coord_channel = np.expand_dims(np.matmul(base_row.T, ones_arr_rows.T), axis=0)\n",
    "    #print(np.shape(x_coord_channel))\n",
    "    #print(np.shape(y_coord_channel))\n",
    "    return np.concatenate((x_coord_channel, y_coord_channel, img_arr), axis = 0)\n",
    "\n",
    "def to_image_np(state):\n",
    "    return np.swapaxes(np.swapaxes(state, 0, 1), 1, 2)\n",
    "\n",
    "def to_state_np(image_arr):\n",
    "    return np.swapaxes(np.swapaxes(image_arr, 1, 2), 0, 1)\n",
    "\n",
    "def to_image_torch(state):\n",
    "    return torch.swapaxes(torch.swapaxes(state, 0, 1), 1, 2)\n",
    "\n",
    "def to_state_torch(image_arr):\n",
    "    return torch.swapaxes(torch.swapaxes(image_arr, 1, 2), 0, 1)\n",
    "\n",
    "def save_arr_to_file(image_arr, filepath):\n",
    "    into_file_format = image_arr.astype(np.uint8)\n",
    "    im = Image.fromarray(into_file_format)\n",
    "    im.save(filepath)\n",
    "    \n",
    "def row_col_to_x_y(row, col):\n",
    "    return float(col - END_ROWS//2)/(END_COLS/2), float(row - END_COLS//2)/(END_ROWS/2)\n",
    "\n",
    "def row_col_to_index(row, col):\n",
    "    return row * END_COLS + col\n",
    "\n",
    "def index_to_row_col(index):\n",
    "    row = int(round(index))//END_COLS\n",
    "    col = int(round(index))%END_COLS\n",
    "    return int(row), int(col)"
   ]
  },
  {
   "cell_type": "code",
   "execution_count": 43,
   "id": "6af0e6e3-40e2-42ac-a86e-f09522480147",
   "metadata": {},
   "outputs": [],
   "source": [
    "actvals = np.loadtxt(\"actvals.txt\")"
   ]
  },
  {
   "cell_type": "code",
   "execution_count": 44,
   "id": "51c3191d-7d11-4884-9f0a-7c3da84a1ee9",
   "metadata": {},
   "outputs": [
    {
     "name": "stdout",
     "output_type": "stream",
     "text": [
      "(22500,)\n",
      "299\n",
      "9970.7890625\n"
     ]
    }
   ],
   "source": [
    "print(np.shape(actvals))\n",
    "print(np.argmax(actvals))\n",
    "print(np.amax(actvals))"
   ]
  },
  {
   "cell_type": "code",
   "execution_count": 46,
   "id": "90e3920e-ee4f-4771-a5ca-a0aa403308f7",
   "metadata": {},
   "outputs": [],
   "source": [
    "heatmap_arr = np.zeros((150,150))\n",
    "for index in range(len(actvals)):\n",
    "    row, col = index_to_row_col(index)\n",
    "    heatmap_arr[row][col] = actvals[index]"
   ]
  },
  {
   "cell_type": "code",
   "execution_count": 34,
   "id": "a266f8e5-f100-484d-85ac-e55ba0c1974a",
   "metadata": {},
   "outputs": [
    {
     "ename": "NameError",
     "evalue": "name 'plot_heat' is not defined",
     "output_type": "error",
     "traceback": [
      "\u001b[0;31m------------------------------------\u001b[0m",
      "\u001b[0;31mNameError\u001b[0mTraceback (most recent call last)",
      "Input \u001b[0;32mIn [34]\u001b[0m, in \u001b[0;36m<cell line: 1>\u001b[0;34m()\u001b[0m\n\u001b[0;32m----> 1\u001b[0m \u001b[43mplot_heat\u001b[49m\n",
      "\u001b[0;31mNameError\u001b[0m: name 'plot_heat' is not defined"
     ]
    }
   ],
   "source": [
    "plot_heat"
   ]
  },
  {
   "cell_type": "code",
   "execution_count": 42,
   "id": "c9b9edb0-f060-42c5-85ff-0a34b72e2061",
   "metadata": {},
   "outputs": [
    {
     "name": "stdout",
     "output_type": "stream",
     "text": [
      "14873\n",
      "99 23\n",
      "8.615123046875\n"
     ]
    }
   ],
   "source": [
    "heatmap_arr[heatmap_arr < 1000] = 0\n",
    "heatmap_arr /= 1000\n",
    "print(np.argmax(heatmap_arr))\n",
    "trow, tcol = index_to_row_col(14873)\n",
    "print(trow, tcol)\n",
    "print(heatmap_arr[trow][tcol])"
   ]
  },
  {
   "cell_type": "code",
   "execution_count": 36,
   "id": "b8f4baee-e509-43f9-b116-312472b6214c",
   "metadata": {},
   "outputs": [
    {
     "name": "stdout",
     "output_type": "stream",
     "text": [
      "0.0\n"
     ]
    }
   ],
   "source": [
    "print(heatmap_arr[149][149])"
   ]
  },
  {
   "cell_type": "code",
   "execution_count": 37,
   "id": "37b93c7a-3c1a-4a49-be07-1115ea9201c0",
   "metadata": {},
   "outputs": [
    {
     "name": "stdout",
     "output_type": "stream",
     "text": [
      "[[1.76471497 4.69485547 1.79243335 ... 5.90529443 5.69187842 4.35756689]\n",
      " [3.1489021  5.39204102 7.02135059 ... 8.25807324 7.78307178 5.63189941]\n",
      " [0.         0.         0.         ... 0.         0.         0.        ]\n",
      " ...\n",
      " [0.         0.         0.         ... 0.         0.         0.        ]\n",
      " [0.         0.         0.         ... 0.         0.         0.        ]\n",
      " [2.8162998  5.08926367 4.22225439 ... 0.         0.         0.        ]]\n"
     ]
    }
   ],
   "source": [
    "print(heatmap_arr)"
   ]
  },
  {
   "cell_type": "code",
   "execution_count": 47,
   "id": "d29de66a-f192-492b-aae5-06aceb91f81a",
   "metadata": {},
   "outputs": [],
   "source": [
    "def plot_heatmap_temp(arr, filepath):\n",
    "    plt.clf()\n",
    "    plt.imshow(arr, cmap='hot', interpolation='nearest')\n",
    "    plt.show()\n",
    "    plt.clf()"
   ]
  },
  {
   "cell_type": "code",
   "execution_count": 49,
   "id": "d3ba3017-ec4b-49dc-8755-bb855d12ab35",
   "metadata": {},
   "outputs": [
    {
     "data": {
      "image/png": "[encoded data removed]",
      "text/plain": [
       "<Figure size 640x480 with 1 Axes>"
      ]
     },
     "metadata": {},
     "output_type": "display_data"
    }
   ],
   "source": [
    "plot_heatmap_temp(heatmap_arr, \"testing_heatmap.png\")"
   ]
  },
  {
   "cell_type": "code",
   "execution_count": 51,
   "id": "f6238f2a-4ecc-44ad-a279-ad636f55fc2b",
   "metadata": {},
   "outputs": [
    {
     "name": "stdout",
     "output_type": "stream",
     "text": [
      "[[ 2.08888367e+02  7.29261780e+02  1.58503076e+03 ...  8.08485400e+03\n",
      "   8.07240771e+03  8.85222461e+03]\n",
      " [-1.97059717e+03 -1.75029980e+03 -6.44870605e+02 ...  2.58027002e+03\n",
      "   3.56098535e+03  9.97078906e+03]\n",
      " [-8.39602966e+02 -6.05698730e+02  9.46817780e+00 ...  3.37679901e+02\n",
      "   1.67175366e+03  9.76910254e+03]\n",
      " ...\n",
      " [ 5.83664746e+03  1.12046057e+03 -6.75364319e+02 ... -2.32075714e+02\n",
      "  -1.03402722e+03  3.36851270e+03]\n",
      " [ 5.99520166e+03  1.33596228e+03 -4.54455414e+02 ... -4.16369354e+02\n",
      "  -9.09464539e+02  2.58796973e+03]\n",
      " [ 7.16935352e+03  4.72559033e+03  3.61161035e+03 ... -8.04681274e+02\n",
      "  -1.37940479e+03  1.00257251e+03]]\n"
     ]
    }
   ],
   "source": [
    "print(heatmap_arr)"
   ]
  },
  {
   "cell_type": "code",
   "execution_count": null,
   "id": "5ca35bef-25a3-4563-a45a-16ad660d7025",
   "metadata": {},
   "outputs": [],
   "source": []
  }
 ],
 "metadata": {
  "kernelspec": {
   "display_name": "Python 3",
   "language": "python",
   "name": "python3"
  },
  "language_info": {
   "codemirror_mode": {
    "name": "ipython",
    "version": 3
   },
   "file_extension": ".py",
   "mimetype": "text/x-python",
   "name": "python",
   "nbconvert_exporter": "python",
   "pygments_lexer": "ipython3",
   "version": "3.8.8"
  }
 },
 "nbformat": 4,
 "nbformat_minor": 5
}
